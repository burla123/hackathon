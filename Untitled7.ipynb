{
  "nbformat": 4,
  "nbformat_minor": 0,
  "metadata": {
    "colab": {
      "provenance": []
    },
    "kernelspec": {
      "name": "python3",
      "display_name": "Python 3"
    },
    "language_info": {
      "name": "python"
    }
  },
  "cells": [
    {
      "cell_type": "code",
      "execution_count": 17,
      "metadata": {
        "colab": {
          "base_uri": "https://localhost:8080/"
        },
        "id": "JjxnJbP_FOTx",
        "outputId": "977c1f65-d88a-48c4-8486-362b8373e8aa"
      },
      "outputs": [
        {
          "output_type": "stream",
          "name": "stdout",
          "text": [
            "No tables found in the provided PDF.\n"
          ]
        }
      ],
      "source": [
        "import pdfplumber\n",
        "import pandas as pd\n",
        "\n",
        "try:\n",
        "  import pdfplumber\n",
        "  import pandas as pd\n",
        "  import openpyxl\n",
        "except ModuleNotFoundError as e :\n",
        "  print(f\"Error: {e}.Please install the required modules using 'pip install pdfplumber pandas openpyxl',\")\n",
        "  exit(1)\n",
        "\n",
        "pdf_path = \"/test3 (1).pdf\"\n",
        "output_excel = \"extracted_tables.xlsx\"\n",
        "\n",
        "column = [\"Date\",\"Type\" ,\"Description\" ,\"Debit\",\"Credit\",\"Balance\"]\n",
        "data = []\n",
        "\n",
        "\n",
        "def extract_tables_from_pdf(pdf_path):\n",
        "  try:\n",
        "    with pdfplumber.open(pdf_path) as pdf:\n",
        "      for page in pdf.pages:\n",
        "        tables = page.extract_tables()\n",
        "        if tables:\n",
        "          for table in tables:\n",
        "            for row in table:\n",
        "              if any(row):\n",
        "                data.append(row)\n",
        "  except Exception as e:\n",
        "    print(f\"Error processing PDF : {e}\")\n",
        "    exit(1)\n",
        "\n",
        "extract_tables_from_pdf(pdf_path)\n",
        "if data:\n",
        "  df = pd.DataFrame(data, columns=columns)\n",
        "  df.to_excel(output_excel , index=False)\n",
        "  print(f\"Tables extracted and saved to {output_excel}\")\n",
        "else:\n",
        "  print(\"No tables found in the provided PDF.\")\n",
        "\n",
        "\n"
      ]
    },
    {
      "cell_type": "code",
      "execution_count": 15,
      "metadata": {
        "colab": {
          "base_uri": "https://localhost:8080/"
        },
        "outputId": "b765ee5b-8c10-4a8c-fec7-a44d701e86d6",
        "id": "Lm347CPeyiQS"
      },
      "outputs": [
        {
          "output_type": "stream",
          "name": "stdout",
          "text": [
            "Error processing PDF : [Errno 2] No such file or directory: ''\n",
            "No tables found in the provided PDF.\n"
          ]
        }
      ],
      "source": [
        "import pdfplumber\n",
        "import pandas as pd\n",
        "\n",
        "try:\n",
        "  import pdfplumber\n",
        "  import pandas as pd\n",
        "  import openpyxl\n",
        "except ModuleNotFoundError as e :\n",
        "  print(f\"Error: {e}.Please install the required modules using 'pip install pdfplumber pandas openpyxl',\")\n",
        "  exit(1)\n",
        "\n",
        "pdf_path = \"\"\n",
        "output_excel = \"extracted_tables.xlsx\"\n",
        "\n",
        "column = [\"Date\",\"Type\" ,\"Description\" ,\"Debit\",\"Credit\",\"Balance\"]\n",
        "data = []\n",
        "\n",
        "\n",
        "def extract_tables_from_pdf(pdf_path):\n",
        "  try:\n",
        "    with pdfplumber.open(pdf_path) as pdf:\n",
        "      for page in pdf.pages:\n",
        "        tables = page.extract_tables()\n",
        "        if tables:\n",
        "          for table in tables:\n",
        "            for row in table:\n",
        "              if any(row):\n",
        "                data.append(row)\n",
        "  except Exception as e:\n",
        "    print(f\"Error processing PDF : {e}\")\n",
        "    exit(1)\n",
        "\n",
        "extract_tables_from_pdf(pdf_path)\n",
        "if data:\n",
        "  df = pd.DataFrame(data, columns=columns)\n",
        "  df.to_excel(output_excel , index=False)\n",
        "  print(f\"Tables extracted and saved to {output_excel}\")\n",
        "else:\n",
        "  print(\"No tables found in the provided PDF.\")\n",
        "\n",
        "\n"
      ]
    },
    {
      "cell_type": "code",
      "source": [
        "pip install pdfplumber"
      ],
      "metadata": {
        "colab": {
          "base_uri": "https://localhost:8080/"
        },
        "id": "bGdugIF-r_iw",
        "outputId": "1cbdc263-5e41-49c8-8d49-9183c6af0ca1"
      },
      "execution_count": 16,
      "outputs": [
        {
          "output_type": "stream",
          "name": "stdout",
          "text": [
            "Requirement already satisfied: pdfplumber in /usr/local/lib/python3.11/dist-packages (0.11.5)\n",
            "Requirement already satisfied: pdfminer.six==20231228 in /usr/local/lib/python3.11/dist-packages (from pdfplumber) (20231228)\n",
            "Requirement already satisfied: Pillow>=9.1 in /usr/local/lib/python3.11/dist-packages (from pdfplumber) (11.1.0)\n",
            "Requirement already satisfied: pypdfium2>=4.18.0 in /usr/local/lib/python3.11/dist-packages (from pdfplumber) (4.30.1)\n",
            "Requirement already satisfied: charset-normalizer>=2.0.0 in /usr/local/lib/python3.11/dist-packages (from pdfminer.six==20231228->pdfplumber) (3.4.1)\n",
            "Requirement already satisfied: cryptography>=36.0.0 in /usr/local/lib/python3.11/dist-packages (from pdfminer.six==20231228->pdfplumber) (43.0.3)\n",
            "Requirement already satisfied: cffi>=1.12 in /usr/local/lib/python3.11/dist-packages (from cryptography>=36.0.0->pdfminer.six==20231228->pdfplumber) (1.17.1)\n",
            "Requirement already satisfied: pycparser in /usr/local/lib/python3.11/dist-packages (from cffi>=1.12->cryptography>=36.0.0->pdfminer.six==20231228->pdfplumber) (2.22)\n"
          ]
        }
      ]
    }
  ]
}